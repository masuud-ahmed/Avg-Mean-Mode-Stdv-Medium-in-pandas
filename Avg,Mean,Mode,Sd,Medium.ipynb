{
 "cells": [
  {
   "cell_type": "code",
   "execution_count": 3,
   "id": "59b7e82c-ef60-47f9-8dde-ec9ca55c35a6",
   "metadata": {},
   "outputs": [],
   "source": [
    "import pandas as pd"
   ]
  },
  {
   "cell_type": "code",
   "execution_count": 9,
   "id": "c46d7f0b-0dde-4f33-a17d-cd1d7e0faa4e",
   "metadata": {},
   "outputs": [],
   "source": [
    "Data_Set = [8, 15, 15, 22, 22, 25, 22, 10, 89, 65, 44]"
   ]
  },
  {
   "cell_type": "code",
   "execution_count": 27,
   "id": "489ca6c8-91a9-40ea-8f38-cbaeb86bb315",
   "metadata": {},
   "outputs": [],
   "source": [
    "data_list=list(Data_Set)"
   ]
  },
  {
   "cell_type": "code",
   "execution_count": 29,
   "id": "f3d038bb-e25a-40fc-b910-927df40b7fea",
   "metadata": {},
   "outputs": [],
   "source": [
    "data = pd.Series(data_list)"
   ]
  },
  {
   "cell_type": "code",
   "execution_count": 19,
   "id": "265a9267-736c-4266-b900-b16a34aa0271",
   "metadata": {
    "editable": true,
    "panel-layout": {
     "height": 0,
     "visible": true,
     "width": 100
    },
    "slideshow": {
     "slide_type": ""
    },
    "tags": []
   },
   "outputs": [
    {
     "name": "stdout",
     "output_type": "stream",
     "text": [
      "0    65\n",
      "1     8\n",
      "2    10\n",
      "3    44\n",
      "4    15\n",
      "5    22\n",
      "6    89\n",
      "7    25\n",
      "dtype: int64\n"
     ]
    }
   ],
   "source": [
    "print(data)"
   ]
  },
  {
   "cell_type": "code",
   "execution_count": 21,
   "id": "24b41226-4c98-470d-93a1-66d67793848c",
   "metadata": {},
   "outputs": [],
   "source": [
    "description = data.describe()"
   ]
  },
  {
   "cell_type": "code",
   "execution_count": 23,
   "id": "9feb8a02-ca4c-4c9d-84af-ab404e9de7fe",
   "metadata": {
    "panel-layout": {
     "height": 0,
     "visible": true,
     "width": 100
    }
   },
   "outputs": [
    {
     "name": "stdout",
     "output_type": "stream",
     "text": [
      "count     8.000000\n",
      "mean     34.750000\n",
      "std      29.079939\n",
      "min       8.000000\n",
      "25%      13.750000\n",
      "50%      23.500000\n",
      "75%      49.250000\n",
      "max      89.000000\n",
      "dtype: float64\n"
     ]
    }
   ],
   "source": [
    "print(description)"
   ]
  },
  {
   "cell_type": "code",
   "execution_count": 31,
   "id": "cd686dec-cb65-449e-8ef7-132fdb2f9197",
   "metadata": {},
   "outputs": [],
   "source": [
    "mean = description['mean']"
   ]
  },
  {
   "cell_type": "code",
   "execution_count": 33,
   "id": "088417b3-1ca7-43fe-a2ca-74fde3267d71",
   "metadata": {
    "panel-layout": {
     "height": 27.140625,
     "visible": true,
     "width": 100
    }
   },
   "outputs": [
    {
     "data": {
      "text/plain": [
       "34.75"
      ]
     },
     "execution_count": 33,
     "metadata": {},
     "output_type": "execute_result"
    }
   ],
   "source": [
    "mean"
   ]
  },
  {
   "cell_type": "code",
   "execution_count": 35,
   "id": "bf3adc5a-f96a-4601-b810-c568e980e017",
   "metadata": {},
   "outputs": [],
   "source": [
    "mean = description['mean']\n",
    "mode = data.mode()[0] \n",
    "median = description['50%']\n",
    "range_value = data.max() - data.min()\n",
    "std_dev = description['std']"
   ]
  },
  {
   "cell_type": "code",
   "execution_count": 37,
   "id": "82f8aa3d-793c-4388-ad6a-e6f9340dc680",
   "metadata": {
    "panel-layout": {
     "height": 0,
     "visible": true,
     "width": 100
    }
   },
   "outputs": [
    {
     "name": "stdout",
     "output_type": "stream",
     "text": [
      "Average (Mean): 34.75\n",
      "Mode: 8\n",
      "Median: 23.5\n",
      "Range: 81\n",
      "Standard Deviation: 29.079939084235665\n"
     ]
    }
   ],
   "source": [
    "print(\"Average (Mean):\", mean)\n",
    "print(\"Mode:\", mode)\n",
    "print(\"Median:\", median)\n",
    "print(\"Range:\", range_value)\n",
    "print(\"Standard Deviation:\", std_dev)"
   ]
  },
  {
   "cell_type": "code",
   "execution_count": 39,
   "id": "d303f525-26d5-4971-9c3e-99d118139b81",
   "metadata": {},
   "outputs": [
    {
     "ename": "AttributeError",
     "evalue": "'Series' object has no attribute 'average'",
     "output_type": "error",
     "traceback": [
      "\u001b[1;31m---------------------------------------------------------------------------\u001b[0m",
      "\u001b[1;31mAttributeError\u001b[0m                            Traceback (most recent call last)",
      "\u001b[1;32m~\\AppData\\Local\\Temp\\ipykernel_15668\\2174064022.py\u001b[0m in \u001b[0;36m?\u001b[1;34m()\u001b[0m\n\u001b[1;32m----> 1\u001b[1;33m \u001b[0mavg\u001b[0m\u001b[1;33m=\u001b[0m \u001b[0mdata\u001b[0m\u001b[1;33m.\u001b[0m\u001b[0maverage\u001b[0m\u001b[1;33m(\u001b[0m\u001b[1;33m)\u001b[0m\u001b[1;33m\u001b[0m\u001b[1;33m\u001b[0m\u001b[0m\n\u001b[0m",
      "\u001b[1;32m~\\anaconda3\\Lib\\site-packages\\pandas\\core\\generic.py\u001b[0m in \u001b[0;36m?\u001b[1;34m(self, name)\u001b[0m\n\u001b[0;32m   6295\u001b[0m             \u001b[1;32mand\u001b[0m \u001b[0mname\u001b[0m \u001b[1;32mnot\u001b[0m \u001b[1;32min\u001b[0m \u001b[0mself\u001b[0m\u001b[1;33m.\u001b[0m\u001b[0m_accessors\u001b[0m\u001b[1;33m\u001b[0m\u001b[1;33m\u001b[0m\u001b[0m\n\u001b[0;32m   6296\u001b[0m             \u001b[1;32mand\u001b[0m \u001b[0mself\u001b[0m\u001b[1;33m.\u001b[0m\u001b[0m_info_axis\u001b[0m\u001b[1;33m.\u001b[0m\u001b[0m_can_hold_identifiers_and_holds_name\u001b[0m\u001b[1;33m(\u001b[0m\u001b[0mname\u001b[0m\u001b[1;33m)\u001b[0m\u001b[1;33m\u001b[0m\u001b[1;33m\u001b[0m\u001b[0m\n\u001b[0;32m   6297\u001b[0m         \u001b[1;33m)\u001b[0m\u001b[1;33m:\u001b[0m\u001b[1;33m\u001b[0m\u001b[1;33m\u001b[0m\u001b[0m\n\u001b[0;32m   6298\u001b[0m             \u001b[1;32mreturn\u001b[0m \u001b[0mself\u001b[0m\u001b[1;33m[\u001b[0m\u001b[0mname\u001b[0m\u001b[1;33m]\u001b[0m\u001b[1;33m\u001b[0m\u001b[1;33m\u001b[0m\u001b[0m\n\u001b[1;32m-> 6299\u001b[1;33m         \u001b[1;32mreturn\u001b[0m \u001b[0mobject\u001b[0m\u001b[1;33m.\u001b[0m\u001b[0m__getattribute__\u001b[0m\u001b[1;33m(\u001b[0m\u001b[0mself\u001b[0m\u001b[1;33m,\u001b[0m \u001b[0mname\u001b[0m\u001b[1;33m)\u001b[0m\u001b[1;33m\u001b[0m\u001b[1;33m\u001b[0m\u001b[0m\n\u001b[0m",
      "\u001b[1;31mAttributeError\u001b[0m: 'Series' object has no attribute 'average'"
     ]
    }
   ],
   "source": [
    "avg= data.average()"
   ]
  },
  {
   "cell_type": "code",
   "execution_count": null,
   "id": "6ea1e949-6f0a-4390-b2b4-3067fa78b9ac",
   "metadata": {},
   "outputs": [],
   "source": []
  }
 ],
 "metadata": {
  "kernelspec": {
   "display_name": "Python 3 (ipykernel)",
   "language": "python",
   "name": "python3"
  },
  "language_info": {
   "codemirror_mode": {
    "name": "ipython",
    "version": 3
   },
   "file_extension": ".py",
   "mimetype": "text/x-python",
   "name": "python",
   "nbconvert_exporter": "python",
   "pygments_lexer": "ipython3",
   "version": "3.12.7"
  },
  "panel-cell-order": [
   "265a9267-736c-4266-b900-b16a34aa0271",
   "9feb8a02-ca4c-4c9d-84af-ab404e9de7fe",
   "088417b3-1ca7-43fe-a2ca-74fde3267d71",
   "82f8aa3d-793c-4388-ad6a-e6f9340dc680"
  ]
 },
 "nbformat": 4,
 "nbformat_minor": 5
}
